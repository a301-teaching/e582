{
 "cells": [
  {
   "cell_type": "markdown",
   "metadata": {},
   "source": [
    "### Read data from an ocean color level3b netcdf file that is really an h5 file\n",
    "\n",
    "Format is described here:\n",
    "\n",
    "https://oceancolor.gsfc.nasa.gov/docs/technical/ocean_level-3_binned_data_products.pdf\n",
    "\n",
    "unlike the file used in the calc_chlor and plot_chlor notebooks, downloads from the \n",
    "https://oceancolor.gsfc.nasa.gov/cgi/l3 have a nc suffix but don't open as nc files.\n",
    "Try  as an h5 file instead.\n",
    "\n",
    "This notebook verifies that the data is the same format used in the calc_chlor notebook"
   ]
  },
  {
   "cell_type": "code",
   "execution_count": 10,
   "metadata": {
    "collapsed": true
   },
   "outputs": [],
   "source": [
    "from e582utils.data_read import download\n",
    "from e582utils import h5dump\n",
    "import h5py"
   ]
  },
  {
   "cell_type": "code",
   "execution_count": 3,
   "metadata": {
    "collapsed": false
   },
   "outputs": [
    {
     "name": "stdout",
     "output_type": "stream",
     "text": [
      "\n",
      "A2007010.L3b_DAY_PAR.nc already exists\n",
      "and is 142501357 bytes\n",
      "will not overwrite\n",
      "\n"
     ]
    }
   ],
   "source": [
    "infile='A2007010.L3b_DAY_PAR.nc'\n",
    "download(infile)"
   ]
  },
  {
   "cell_type": "code",
   "execution_count": 7,
   "metadata": {
    "collapsed": false
   },
   "outputs": [],
   "source": [
    "out=h5dump.dumph5(infile)"
   ]
  },
  {
   "cell_type": "code",
   "execution_count": 25,
   "metadata": {
    "collapsed": false
   },
   "outputs": [
    {
     "name": "stdout",
     "output_type": "stream",
     "text": [
      "['level-3_binned_data', 'processing_control']\n",
      "['par', 'BinList', 'binListDim', 'binIndexDim', 'binListType', 'binIndexType', 'binDataDim', 'BinIndex', 'binDataType']\n"
     ]
    }
   ],
   "source": [
    "root_key='level-3_binned_data'\n",
    "with h5py.File(infile,'r') as in_h5:\n",
    "    print('root keys: ',list(in_h5.keys()))\n",
    "    print('group keys: ',list(in_h5[root_key].keys()))\n",
    "    par=in_h5[root_key]['par'][...]\n",
    "    binlist=in_h5[root_key]['BinList'][...]"
   ]
  },
  {
   "cell_type": "code",
   "execution_count": 26,
   "metadata": {
    "collapsed": false
   },
   "outputs": [
    {
     "name": "stdout",
     "output_type": "stream",
     "text": [
      "[('sum', '<f4'), ('sum_squared', '<f4')]\n",
      "[('bin_num', '<u4'), ('nobs', '<i2'), ('nscenes', '<i2'), ('weights', '<f4'), ('time_rec', '<f4')]\n"
     ]
    }
   ],
   "source": [
    "print(par.dtype)\n",
    "print(binlist.dtype)"
   ]
  },
  {
   "cell_type": "code",
   "execution_count": null,
   "metadata": {
    "collapsed": true
   },
   "outputs": [],
   "source": []
  }
 ],
 "metadata": {
  "hide_input": false,
  "kernelspec": {
   "display_name": "Python 3",
   "language": "python",
   "name": "python3"
  },
  "language_info": {
   "codemirror_mode": {
    "name": "ipython",
    "version": 3
   },
   "file_extension": ".py",
   "mimetype": "text/x-python",
   "name": "python",
   "nbconvert_exporter": "python",
   "pygments_lexer": "ipython3",
   "version": "3.5.3"
  }
 },
 "nbformat": 4,
 "nbformat_minor": 2
}
