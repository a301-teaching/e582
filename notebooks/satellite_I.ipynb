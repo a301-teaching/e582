{
 "cells": [
  {
   "cell_type": "markdown",
   "metadata": {},
   "source": [
    "# Intro to satellite data  I\n",
    "\n",
    "In this notebook we take a quick look at a 5 minutes of satellite data acquired from the MODIS instrument on the  Aqua polar orbiting satellite. Aqua flies in the [A-train]( <http://atrain.nasa.gov), which is  formation of satellites that orbit separated by a minute or so.  The granule covers the period from 20:15 to 20:20 UCT on May 15, 2016 (Julian day 136) while Aqua flew over Ft. McMurray, Alberta.  I downloaded the granule from the [Laadsweb NASA site]( https://ladsweb.nascom.nasa.gov/data/search.html) and converted it from HDF4 to HDF5 format (more on [this](https://www.hdfgroup.org/h5h4-diff.html) later).  The structure of HDF5 files can be explored with the [HDFViewer tool](https://www.hdfgroup.org/products/java/release/download.html) (install version 2.13 from that link).  The gory details are in the [Modis Users Guide](http://clouds.eos.ubc.ca/~phil/courses/atsc301/downloads/modis_users_guide.pdf).\n",
    "\n",
    "First, download the file from our course website:"
   ]
  },
  {
   "cell_type": "code",
   "execution_count": 1,
   "metadata": {
    "collapsed": false
   },
   "outputs": [
    {
     "name": "stdout",
     "output_type": "stream",
     "text": [
      "\n",
      "MYD021KM.A2016136.2015.006.2016138123353.h5 already exists\n",
      "and is 155338872 bytes\n",
      "will not overwrite\n",
      "\n"
     ]
    }
   ],
   "source": [
    "from e582utils.data_read import download\n",
    "import h5py\n",
    "filename = 'MYD021KM.A2016136.2015.006.2016138123353.h5'\n",
    "download(filename)"
   ]
  },
  {
   "cell_type": "markdown",
   "metadata": {},
   "source": [
    "Here is the corresponding red,green,blue color composite for the granule."
   ]
  },
  {
   "cell_type": "code",
   "execution_count": 2,
   "metadata": {
    "collapsed": false
   },
   "outputs": [
    {
     "data": {
      "text/html": [
       "<img src=\"http://clouds.eos.ubc.ca/~phil/courses/atsc301/downloads/aqua_136_2015.jpg\" width=\"600\"/>"
      ],
      "text/plain": [
       "<IPython.core.display.Image object>"
      ]
     },
     "execution_count": 2,
     "metadata": {},
     "output_type": "execute_result"
    }
   ],
   "source": [
    "from IPython.display import Image\n",
    "Image(url='http://clouds.eos.ubc.ca/~phil/courses/atsc301/downloads/aqua_136_2015.jpg',width=600)"
   ]
  },
  {
   "cell_type": "markdown",
   "metadata": {},
   "source": [
    "### now use h5py to read some of the satellite channels"
   ]
  },
  {
   "cell_type": "code",
   "execution_count": 3,
   "metadata": {
    "collapsed": false
   },
   "outputs": [],
   "source": [
    "h5_file=h5py.File(filename)"
   ]
  },
  {
   "cell_type": "markdown",
   "metadata": {},
   "source": [
    "h5 files have attributes -- stored as a dictionary"
   ]
  },
  {
   "cell_type": "code",
   "execution_count": 4,
   "metadata": {
    "collapsed": false
   },
   "outputs": [
    {
     "name": "stdout",
     "output_type": "stream",
     "text": [
      "['HDFEOSVersion_GLOSDS', 'StructMetadata.0_GLOSDS', 'HDFEOS_FractionalOffset_10*nscans_MODIS_SWATH_Type_L1B_GLOSDS', 'HDFEOS_FractionalOffset_Max_EV_frames_MODIS_SWATH_Type_L1B_GLOSDS', 'CoreMetadata.0_GLOSDS', 'ArchiveMetadata.0_GLOSDS', 'Number of Scans_GLOSDS', 'Number of Day mode scans_GLOSDS', 'Number of Night mode scans_GLOSDS', 'Incomplete Scans_GLOSDS', 'Max Earth View Frames_GLOSDS', '%Valid EV Observations_GLOSDS', '%Saturated EV Observations_GLOSDS', '% L1A EV All Scan Data are Missing_GLOSDS', '% L1A EV RSB DN Not in Day Mode_GLOSDS', '% L1A EV DN Missing Within Scan_GLOSDS', '% Dead Detector EV Data_GLOSDS', '% Dead Subframe EV Data_GLOSDS', '% Sector Rotation EV Data_GLOSDS', '% Saturated EV Data_GLOSDS', '% TEB EV Data With Moon in SVP_GLOSDS', '% EV Data Where Cannot Compute BG DN_GLOSDS', '% RSB EV Data With dn** Below Scale_GLOSDS', '% EV Data Where Nadir Door Closed_GLOSDS', '% EV Data Not Calibrated_GLOSDS', 'Bit QA Flags Last Value_GLOSDS', 'Bit QA Flags Change_GLOSDS', 'Granule Average QA Values_GLOSDS', 'Electronics Redundancy Vector_GLOSDS', 'Electronics Configuration Change_GLOSDS', 'Reflective LUT Serial Number and Date of Last Change_GLOSDS', 'Emissive LUT Serial Number and Date of Last Change_GLOSDS', 'QA LUT Serial Number and Date of Last Change_GLOSDS', 'Focal Plane Set Point State_GLOSDS', 'Doors and Screens Configuration_GLOSDS', 'Reflective Bands With Bad Data_GLOSDS', 'Emissive Bands With Bad Data_GLOSDS', 'Noise in Black Body Thermistors_GLOSDS', 'Noise in Average BB Temperature_GLOSDS', 'Noise in LWIR FPA Temperature_GLOSDS', 'Noise in MWIR FPA Temperature_GLOSDS', 'Noise in Scan Mirror Thermistor #1_GLOSDS', 'Noise in Scan Mirror Thermistor #2_GLOSDS', 'Noise in Scan Mirror Thermistor Average_GLOSDS', 'Noise in Instrument Temperature_GLOSDS', 'Noise in Cavity Temperature_GLOSDS', 'Noise in Temperature of NIR FPA_GLOSDS', 'Noise in Temperature of Vis FPA_GLOSDS', 'Dead Detector List_GLOSDS', 'Noisy Detector List_GLOSDS', 'Dead Subframe List_GLOSDS', 'Noisy Subframe List_GLOSDS', 'Detector Quality Flag_GLOSDS', 'Detector Quality Flag2_GLOSDS', 'Earth-Sun Distance_GLOSDS', 'Solar Irradiance on RSB Detectors over pi_GLOSDS', 'identifier_product_doi_GLOSDS', 'identifier_product_doi_authority_GLOSDS']\n"
     ]
    }
   ],
   "source": [
    "print(list(h5_file.attrs.keys()))"
   ]
  },
  {
   "cell_type": "markdown",
   "metadata": {},
   "source": [
    "### print two of the attributes"
   ]
  },
  {
   "cell_type": "code",
   "execution_count": 5,
   "metadata": {
    "collapsed": false
   },
   "outputs": [
    {
     "name": "stdout",
     "output_type": "stream",
     "text": [
      "1.01107\n"
     ]
    }
   ],
   "source": [
    "print(h5_file.attrs['Earth-Sun Distance_GLOSDS'])"
   ]
  },
  {
   "cell_type": "code",
   "execution_count": 6,
   "metadata": {
    "collapsed": false
   },
   "outputs": [
    {
     "name": "stdout",
     "output_type": "stream",
     "text": [
      "b'HDFEOS_V2.17'\n"
     ]
    }
   ],
   "source": [
    "print(h5_file.attrs['HDFEOSVersion_GLOSDS'])"
   ]
  },
  {
   "cell_type": "markdown",
   "metadata": {},
   "source": [
    "h5 files have variables -- stored in a dictionary.\n",
    "The fields are aranged in a hierarchy of groups similar to a set of nested folders"
   ]
  },
  {
   "cell_type": "markdown",
   "metadata": {},
   "source": [
    "Here is what HDFViewer reports for the structure of the \"EV_1KM_Emissive\"  dataset, which stands for \"Earth View, 1 km pixel resolution, thermal emission channels\".  It is showing a 3 dimensional array of integers of shape (16,2030,1354).  These are radiometer counts in 16 different wavelength channels for the 2030 x 1354 pixel granule."
   ]
  },
  {
   "cell_type": "code",
   "execution_count": 7,
   "metadata": {
    "collapsed": false
   },
   "outputs": [
    {
     "data": {
      "image/png": "screenshots/HDF_file_structure.png",
      "text/plain": [
       "<IPython.core.display.Image object>"
      ]
     },
     "execution_count": 7,
     "metadata": {},
     "output_type": "execute_result"
    }
   ],
   "source": [
    "Image('screenshots/HDF_file_structure.png')"
   ]
  },
  {
   "cell_type": "markdown",
   "metadata": {},
   "source": [
    "**Read the radiance data from MODIS_SWATH_Type_L1B/Data Fields/EV_1KM_Emissive**"
   ]
  },
  {
   "cell_type": "markdown",
   "metadata": {},
   "source": [
    "Note the correspondence between the keys and the fields you see in HDFView:\n",
    "\n",
    "Here are the top level groups:"
   ]
  },
  {
   "cell_type": "code",
   "execution_count": 8,
   "metadata": {
    "collapsed": false
   },
   "outputs": [
    {
     "name": "stdout",
     "output_type": "stream",
     "text": [
      "['Band_1KM_Emissive', 'Band_1KM_RefSB', 'Band_250M', 'Band_500M', 'Change in relative responses of thermal detectors', 'DC Restore Change for Reflective 1km Bands', 'DC Restore Change for Reflective 250m Bands', 'DC Restore Change for Reflective 500m Bands', 'DC Restore Change for Thermal Bands', 'HDF4_DIMGROUP', 'Level 1B Swath Metadata', 'Level 1B Swath Metadata_t', 'MODIS_SWATH_Type_L1B', 'Noise in Thermal Detectors']\n"
     ]
    }
   ],
   "source": [
    "print(list(h5_file.keys()))"
   ]
  },
  {
   "cell_type": "markdown",
   "metadata": {},
   "source": [
    "and the 'MODIS_SWATH_Type_L1B' group contains 3 subgroups:"
   ]
  },
  {
   "cell_type": "code",
   "execution_count": 9,
   "metadata": {
    "collapsed": false
   },
   "outputs": [
    {
     "name": "stdout",
     "output_type": "stream",
     "text": [
      "['Data Fields', 'Geolocation Fields', 'Swath Attributes']\n"
     ]
    }
   ],
   "source": [
    "print(list(h5_file['MODIS_SWATH_Type_L1B'].keys()))"
   ]
  },
  {
   "cell_type": "markdown",
   "metadata": {},
   "source": [
    "and the 'Data Fields' subgroup contains 27 more groups:"
   ]
  },
  {
   "cell_type": "code",
   "execution_count": 10,
   "metadata": {
    "collapsed": false
   },
   "outputs": [
    {
     "name": "stdout",
     "output_type": "stream",
     "text": [
      "['Band_1KM_Emissive', 'Band_1KM_Emissive_t', 'Band_1KM_RefSB', 'Band_1KM_RefSB_t', 'Band_250M', 'Band_250M_t', 'Band_500M', 'Band_500M_t', 'EV_1KM_Emissive', 'EV_1KM_Emissive_Uncert_Indexes', 'EV_1KM_RefSB', 'EV_1KM_RefSB_Uncert_Indexes', 'EV_250_Aggr1km_RefSB', 'EV_250_Aggr1km_RefSB_Samples_Used', 'EV_250_Aggr1km_RefSB_Uncert_Indexes', 'EV_500_Aggr1km_RefSB', 'EV_500_Aggr1km_RefSB_Samples_Used', 'EV_500_Aggr1km_RefSB_Uncert_Indexes', 'EV_Band26', 'EV_Band26_Uncert_Indexes', 'Height', 'Range', 'SensorAzimuth', 'SensorZenith', 'SolarAzimuth', 'SolarZenith', 'gflags']\n"
     ]
    }
   ],
   "source": [
    "print(list(h5_file['MODIS_SWATH_Type_L1B/Data Fields'].keys()))"
   ]
  },
  {
   "cell_type": "markdown",
   "metadata": {},
   "source": [
    "Print out the 16 channel numbers stored in Band_1KM_Emissive data array.  The [...] means \"read everything\".  The 16 thermal channels are channels 20-36.  Their wavelength ranges and common uses are listed \n",
    "[here](https://modis.gsfc.nasa.gov/about/specifications.php)"
   ]
  },
  {
   "cell_type": "code",
   "execution_count": 11,
   "metadata": {
    "collapsed": false
   },
   "outputs": [
    {
     "name": "stdout",
     "output_type": "stream",
     "text": [
      "[(20.0,) (21.0,) (22.0,) (23.0,) (24.0,) (25.0,) (27.0,) (28.0,) (29.0,)\n",
      " (30.0,) (31.0,) (32.0,) (33.0,) (34.0,) (35.0,) (36.0,)]\n"
     ]
    }
   ],
   "source": [
    "print(h5_file['MODIS_SWATH_Type_L1B/Data Fields/Band_1KM_Emissive'][...])"
   ]
  },
  {
   "cell_type": "markdown",
   "metadata": {},
   "source": [
    "**note that channel 31, which covers the wavelength range 10.78-11.28 $\\mu m$  occurs at index value 10 (remember python counts from 0)**"
   ]
  },
  {
   "cell_type": "code",
   "execution_count": 12,
   "metadata": {
    "collapsed": false
   },
   "outputs": [],
   "source": [
    "index31=10"
   ]
  },
  {
   "cell_type": "markdown",
   "metadata": {},
   "source": [
    "**the data are stored as unsigned (i.e. only positive values), 2 byte (16 bit) integers which can hold values from 0 to $2^{16}$ - 1 = 65,535.\n",
    "The \">u2\" notation below for the datatype (dtype) says that the data is unsigned, 2 byte, with the most significant\n",
    "byte stored first (\"big endian\", which is the same way we write numbers)**  \n",
    "\n",
    "(Although the 2 byte words contain 16 bits, only  12 bits are significant).\n",
    "\n",
    "(h5py let's you specify the group names one at a time, instead of using '/' to separate them.  This is convenient if you are storing your field name in a variable, for example.)"
   ]
  },
  {
   "cell_type": "code",
   "execution_count": 13,
   "metadata": {
    "collapsed": false
   },
   "outputs": [
    {
     "name": "stdout",
     "output_type": "stream",
     "text": [
      "(2040, 1354) >u2\n"
     ]
    }
   ],
   "source": [
    "my_name = 'EV_1KM_Emissive'\n",
    "chan31=h5_file['MODIS_SWATH_Type_L1B']['Data Fields'][my_name][index31,:,:]\n",
    "print(chan31.shape,chan31.dtype)"
   ]
  },
  {
   "cell_type": "markdown",
   "metadata": {},
   "source": [
    "**Print the first 3 rows and columns**"
   ]
  },
  {
   "cell_type": "code",
   "execution_count": 14,
   "metadata": {
    "collapsed": false
   },
   "outputs": [
    {
     "data": {
      "text/plain": [
       "array([[8254, 8097, 8405],\n",
       "       [8384, 8081, 8351],\n",
       "       [8577, 8230, 8302]], dtype=uint16)"
      ]
     },
     "execution_count": 14,
     "metadata": {},
     "output_type": "execute_result"
    }
   ],
   "source": [
    "chan31[:3,:3]"
   ]
  },
  {
   "cell_type": "markdown",
   "metadata": {},
   "source": [
    "** we need to apply a\n",
    "scale and offset to convert counts to radiance, with units of $(W\\,m^{-2}\\,\\mu m^{-1}\\,sr^{-1}$).  More about the\n",
    "sr units later**"
   ]
  },
  {
   "cell_type": "markdown",
   "metadata": {},
   "source": [
    "$Data = (RawData - offset) \\times scale$\n",
    "\n",
    "this information is included in the attributes of each variable.\n",
    "\n",
    "(see page 36 of the [Modis Users Guide](http://clouds.eos.ubc.ca/~phil/courses/atsc301/downloads/modis_users_guide.pdf))"
   ]
  },
  {
   "cell_type": "markdown",
   "metadata": {},
   "source": [
    "**here is the scale for all 16 channels**"
   ]
  },
  {
   "cell_type": "code",
   "execution_count": 15,
   "metadata": {
    "collapsed": false
   },
   "outputs": [
    {
     "name": "stdout",
     "output_type": "stream",
     "text": [
      "[  6.93075344e-05   3.46690253e-03   7.62657510e-05   8.99075312e-05\n",
      "   3.15561410e-05   5.63982067e-05   1.17831965e-04   1.92449734e-04\n",
      "   5.57084859e-04   4.06323437e-04   6.50807226e-04   5.71001263e-04\n",
      "   2.62337097e-04   2.00872819e-04   1.76763206e-04   1.18594922e-04]\n"
     ]
    }
   ],
   "source": [
    "scale=h5_file['MODIS_SWATH_Type_L1B']['Data Fields']['EV_1KM_Emissive'].attrs['radiance_scales'][...]\n",
    "print(scale)"
   ]
  },
  {
   "cell_type": "markdown",
   "metadata": {},
   "source": [
    "**and here is the offset for 16 channels**"
   ]
  },
  {
   "cell_type": "code",
   "execution_count": 16,
   "metadata": {
    "collapsed": false
   },
   "outputs": [
    {
     "name": "stdout",
     "output_type": "stream",
     "text": [
      "[ 2467.2644043   2480.60058594  2478.17651367  2402.46850586  1077.44482422\n",
      "  1560.33337402  2724.21826172  2317.48828125  2610.01538086  1560.33325195\n",
      "  2035.93322754  2119.08447266  2500.59936523  2499.09350586  2500.52050781\n",
      "  2495.89111328]\n"
     ]
    }
   ],
   "source": [
    "offset=h5_file['MODIS_SWATH_Type_L1B']['Data Fields']['EV_1KM_Emissive'].attrs['radiance_offsets'][...]\n",
    "print(offset)"
   ]
  },
  {
   "cell_type": "markdown",
   "metadata": {},
   "source": [
    "**note that as the satellite ages and wears out, these calibration coefficients change**"
   ]
  },
  {
   "cell_type": "code",
   "execution_count": 17,
   "metadata": {
    "collapsed": false
   },
   "outputs": [],
   "source": [
    "chan31_calibrated =(chan31 - offset[index31])*scale[index31]"
   ]
  },
  {
   "cell_type": "code",
   "execution_count": 18,
   "metadata": {
    "collapsed": false
   },
   "outputs": [],
   "source": [
    "%matplotlib inline"
   ]
  },
  {
   "cell_type": "markdown",
   "metadata": {},
   "source": [
    "**histogram the raw counts -- note that hist doesn't know how to handle 2-dim arrays, so flatten to 1-d**"
   ]
  },
  {
   "cell_type": "code",
   "execution_count": 19,
   "metadata": {
    "collapsed": false
   },
   "outputs": [
    {
     "data": {
      "image/png": "[encoded data removed]",
      "text/plain": [
       "<matplotlib.figure.Figure at 0x10ad969b0>"
      ]
     },
     "metadata": {},
     "output_type": "display_data"
    }
   ],
   "source": [
    "import matplotlib.pyplot as plt\n",
    "out=plt.hist(chan31.flatten())\n",
    "#\n",
    "# get the current axis to add title with gca()\n",
    "#\n",
    "ax = plt.gca()\n",
    "_=ax.set(title='Aqua Modis raw counts')"
   ]
  },
  {
   "cell_type": "markdown",
   "metadata": {},
   "source": [
    "**histogram the calibrated radiances and show that they lie between\n",
    "0-10 $W\\,m^{-2}\\,\\mu m^{-1}\\,sr^{-1}$ **"
   ]
  },
  {
   "cell_type": "code",
   "execution_count": 20,
   "metadata": {
    "collapsed": false
   },
   "outputs": [
    {
     "data": {
      "image/png": "[encoded data removed]",
      "text/plain": [
       "<matplotlib.figure.Figure at 0x1102f3ac8>"
      ]
     },
     "metadata": {},
     "output_type": "display_data"
    }
   ],
   "source": [
    "import matplotlib.pyplot as plt\n",
    "fig,ax = plt.subplots(1,1)\n",
    "ax.hist(chan31_calibrated.flatten())\n",
    "_=ax.set(xlabel='radiance $(W\\,m^{-2}\\,\\mu m^{-1}\\,sr^{-1}$)',\n",
    "      title='channel 31 radiance for Aqua Modis')"
   ]
  },
  {
   "cell_type": "markdown",
   "metadata": {},
   "source": [
    "** Next Read MODIS_SWATH_Type_L1B/Geolocation Fields/Longitude**"
   ]
  },
  {
   "cell_type": "markdown",
   "metadata": {},
   "source": [
    "note that the longitude and latitude arrays are (406,271) while the actual\n",
    "data are (2030,1354).   These lat/lon arrays show only every fifth row and column to\n",
    "save space.  The full lat/lon arrays are stored in a separate file."
   ]
  },
  {
   "cell_type": "code",
   "execution_count": 21,
   "metadata": {
    "collapsed": false
   },
   "outputs": [
    {
     "data": {
      "image/png": "[encoded data removed]",
      "text/plain": [
       "<matplotlib.figure.Figure at 0x110aa5a58>"
      ]
     },
     "metadata": {},
     "output_type": "display_data"
    }
   ],
   "source": [
    "lon_data=h5_file['MODIS_SWATH_Type_L1B']['Geolocation Fields']['Longitude'][...]\n",
    "lat_data=h5_file['MODIS_SWATH_Type_L1B']['Geolocation Fields']['Latitude'][...]\n",
    "_=plt.plot(lon_data[:10,:10],lat_data[:10,:10],'b+')"
   ]
  },
  {
   "cell_type": "markdown",
   "metadata": {},
   "source": [
    "**Note two things:  1) the pixels overlap and 2) they don't line up on lines of constant longitude and latitude**\n",
    "\n",
    "**The pixels are also not all the same size -- this distortion is called the [bowtie effect](http://eoweb.dlr.de:8080/short_guide/D-MODIS.html)**\n",
    "\n",
    "**Next -- plotting image data**"
   ]
  },
  {
   "cell_type": "code",
   "execution_count": null,
   "metadata": {
    "collapsed": true
   },
   "outputs": [],
   "source": []
  }
 ],
 "metadata": {
  "anaconda-cloud": {},
  "kernelspec": {
   "display_name": "Python [default]",
   "language": "python",
   "name": "python3"
  },
  "language_info": {
   "codemirror_mode": {
    "name": "ipython",
    "version": 3
   },
   "file_extension": ".py",
   "mimetype": "text/x-python",
   "name": "python",
   "nbconvert_exporter": "python",
   "pygments_lexer": "ipython3",
   "version": "3.5.2"
  }
 },
 "nbformat": 4,
 "nbformat_minor": 0
}
