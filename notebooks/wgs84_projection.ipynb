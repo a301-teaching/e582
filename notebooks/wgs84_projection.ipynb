{
 "cells": [
  {
   "cell_type": "markdown",
   "metadata": {},
   "source": [
    "### What is epsg:4326?"
   ]
  },
  {
   "cell_type": "markdown",
   "metadata": {},
   "source": [
    "Here are some links:\n",
    "\n",
    "https://nsidc.org/data/atlas/epsg_4326.html\n",
    "\n",
    "http://spatialreference.org/ref/epsg/wgs-84/\n",
    "\n",
    "http://www.unoosa.org/pdf/icg/2012/template/WGS_84.pdf\n",
    "\n"
   ]
  },
  {
   "cell_type": "markdown",
   "metadata": {},
   "source": [
    "### Now try this out with pyproj and basemap\n",
    "\n",
    "Note the different results -- basemap uses degrees, pyproj uses radians\n",
    "\n",
    "It looks like there is a bug in the pyproj proj4 string, units should be radians, not meters"
   ]
  },
  {
   "cell_type": "code",
   "execution_count": 32,
   "metadata": {
    "collapsed": true
   },
   "outputs": [],
   "source": [
    "from mpl_toolkits.basemap import Basemap\n",
    "import pyproj\n",
    "import numpy as np"
   ]
  },
  {
   "cell_type": "code",
   "execution_count": 38,
   "metadata": {
    "collapsed": false
   },
   "outputs": [
    {
     "name": "stdout",
     "output_type": "stream",
     "text": [
      "coord in degrees: (180, 45)\n",
      "coord in radians: [ 3.14159265  0.78539816]\n",
      "\n",
      "pyproj +units=m +datum=WGS84 +proj=eqc : (20037508.342789244, 5009377.085697311)\n",
      "\n",
      "\n",
      "pyproj +units=m +init=epsg:4326 : (3.141592653589793, 0.7853981633974483)\n",
      "\n",
      "\n",
      "pyproj +units=m +proj=longlat +ellps=WGS84 +datum=WGS84 : (3.141592653589793, 0.7853981633974483)\n",
      "\n",
      "\n",
      "basemap +proj=eqc +a=6378137.0 +b=6356752.314245179 +units=m +lon_0=0.0 : (180, 45)\n",
      "\n",
      "\n",
      "basemap roundtrip +proj=eqc +a=6378137.0 +b=6356752.314245179 +units=m +lon_0=0.0 : (20037508.342789244, 5009377.085697311)\n",
      "\n"
     ]
    }
   ],
   "source": [
    "epc_dict=dict(datum='WGS84',proj='eqc')\n",
    "epc_proj=pyproj.Proj(epc_dict)\n",
    "coord=( -125,45)\n",
    "coord=(180,45)\n",
    "print('coord in degrees: {}'.format(coord))\n",
    "print('coord in radians: {}'.format(np.array(coord)*np.pi/180.))\n",
    "print('\\npyproj {}: {}\\n'.format(epc_proj.srs,epc_proj(*coord)))\n",
    "epsg_proj=pyproj.Proj(init='epsg:4326')\n",
    "print('\\npyproj {}: {}\\n'.format(epsg_proj.srs,epsg_proj(*coord)))\n",
    "epsg2_dict=dict(proj='longlat',ellps='WGS84',datum='WGS84')\n",
    "epsg2_proj=pyproj.Proj(epsg2_dict)\n",
    "print('\\npyproj {}: {}\\n'.format(epsg2_proj.srs,epsg2_proj(*coord)))\n",
    "bmap_4326=Basemap(epsg=4326)\n",
    "print('\\nbasemap {}: {}\\n'.format(bmap_4326.proj4string,bmap_4326(*coord)))\n",
    "epsg_roundtrip=pyproj.Proj(bmap_4326.proj4string)\n",
    "print('\\nbasemap roundtrip {}: {}\\n'.format(epsg_roundtrip.srs,epsg_roundtrip(*coord)))"
   ]
  },
  {
   "cell_type": "code",
   "execution_count": null,
   "metadata": {
    "collapsed": true
   },
   "outputs": [],
   "source": []
  }
 ],
 "metadata": {
  "hide_input": false,
  "kernelspec": {
   "display_name": "Python 3",
   "language": "python",
   "name": "python3"
  },
  "language_info": {
   "codemirror_mode": {
    "name": "ipython",
    "version": 3
   },
   "file_extension": ".py",
   "mimetype": "text/x-python",
   "name": "python",
   "nbconvert_exporter": "python",
   "pygments_lexer": "ipython3",
   "version": "3.6.0"
  }
 },
 "nbformat": 4,
 "nbformat_minor": 2
}
