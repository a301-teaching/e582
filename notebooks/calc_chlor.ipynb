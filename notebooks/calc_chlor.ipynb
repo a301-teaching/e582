{
 "cells": [
  {
   "cell_type": "markdown",
   "metadata": {},
   "source": [
    "### Calculate mean and variance of monthly chlorophyll data from the Ocean Color repository\n",
    "\n",
    "\n",
    "#### Resources\n",
    "\n",
    "\n",
    "[NASA Ocean Biology Processing Group](https://oceancolor.gsfc.nasa.gov/about)\n",
    "\n",
    "https://oceancolor.gsfc.nasa.gov/docs/format/Ocean_Level-3_Binned_Data_Products.pdf\n",
    "\n",
    "[Ocean color web site](http://www.oceanopticsbook.info/view/absorption/physics_of_absorption)\n"
   ]
  },
  {
   "cell_type": "markdown",
   "metadata": {},
   "source": [
    "#### Write the bin number, mean and variance out as a dataframe\n",
    "\n",
    "This notebook reads in data vectors from the level3 binned chlorophyll-A file, which gives  monthly averaged \n",
    "chlorophyll concentrations at 4km resolution for the month of June, 2010.  It writes the bin number, mean and variance out as three columns in a Pandas DataFrame\n",
    "\n",
    "For a brief intro to dataframes see [Pandas DataFrames -- chapter 3](http://nbviewer.jupyter.org/github/jakevdp/PythonDataScienceHandbook/blob/master/notebooks/03.01-Introducing-Pandas-Objects.ipynb).  \n",
    "\n",
    "For more information two good books are:\n",
    "\n",
    "[The Python Data Science Handbook](http://shop.oreilly.com/product/0636920034919.do)\n",
    "\n",
    "and\n",
    "\n",
    "[Python for Data Analysis](http://shop.oreilly.com/product/0636920023784.do)"
   ]
  },
  {
   "cell_type": "code",
   "execution_count": 1,
   "metadata": {
    "collapsed": false
   },
   "outputs": [
    {
     "name": "stdout",
     "output_type": "stream",
     "text": [
      "\n",
      "A20101522010181.L3b_MO_CHL.h5 already exists\n",
      "and is 307569656 bytes\n",
      "will not overwrite\n",
      "\n"
     ]
    }
   ],
   "source": [
    "from e582utils.data_read import download\n",
    "from contexttimer import Timer\n",
    "import h5py\n",
    "import pandas as pd\n",
    "import datetime as dt\n",
    "import numpy as np\n",
    "import time\n",
    "\n",
    "chlor_file='A20101522010181.L3b_MO_CHL.h5'\n",
    "download(chlor_file)"
   ]
  },
  {
   "cell_type": "markdown",
   "metadata": {},
   "source": [
    "### dump the monthly level3 binned chlorophyll metadata"
   ]
  },
  {
   "cell_type": "code",
   "execution_count": 2,
   "metadata": {
    "collapsed": false,
    "scrolled": false
   },
   "outputs": [
    {
     "name": "stdout",
     "output_type": "stream",
     "text": [
      "++++++++++++++++++++\n",
      "found the following top-level items: \n",
      "Level-3 Binned Data: <HDF5 group \"/Level-3 Binned Data\" (8 members)>\n",
      "++++++++++++++++++++\n",
      "_______________\n",
      "root group object <HDF5 group \"/Level-3 Binned Data\" (8 members)>\n",
      "_______________\n",
      "    HDF4_OBJECT_TYPE: b'Vgroup'\n",
      "    HDF4_OBJECT_NAME: b'Level-3 Binned Data'\n",
      "    HDF4_REF_NUM: 2\n",
      "member of group: /Level-3 Binned Data: <HDF5 dataset \"BinIndex\": shape (4320,), type \"|V36\">\n",
      "    TITLE: b'BinIndex'\n",
      "    CLASS: b'TABLE'\n",
      "    VERSION: b'1.0'\n",
      "    FIELD_0_NAME: b'row_num'\n",
      "    FIELD_1_NAME: b'vsize'\n",
      "    FIELD_2_NAME: b'hsize'\n",
      "    FIELD_3_NAME: b'start_num'\n",
      "    FIELD_4_NAME: b'begin'\n",
      "    FIELD_5_NAME: b'extent'\n",
      "    FIELD_6_NAME: b'max'\n",
      "    HDF4_OBJECT_TYPE: b'Vdata'\n",
      "    HDF4_OBJECT_NAME: b'BinIndex'\n",
      "    HDF4_REF_NUM: 13295\n",
      "member of group: /Level-3 Binned Data: <HDF5 named type \"BinIndex_t\" (dtype |V36)>\n",
      "member of group: /Level-3 Binned Data: <HDF5 dataset \"BinList\": shape (11384896,), type \"|V19\">\n",
      "    TITLE: b'BinList'\n",
      "    CLASS: b'TABLE'\n",
      "    VERSION: b'1.0'\n",
      "    FIELD_0_NAME: b'bin_num'\n",
      "    FIELD_1_NAME: b'nobs'\n",
      "    FIELD_2_NAME: b'nscenes'\n",
      "    FIELD_3_NAME: b'time_rec'\n",
      "    FIELD_4_NAME: b'weights'\n",
      "    FIELD_5_NAME: b'sel_cat'\n",
      "    FIELD_6_NAME: b'flags_set'\n",
      "    HDF4_OBJECT_TYPE: b'Vdata'\n",
      "    HDF4_OBJECT_NAME: b'BinList'\n",
      "    HDF4_REF_NUM: 4\n",
      "member of group: /Level-3 Binned Data: <HDF5 named type \"BinList_t\" (dtype |V19)>\n",
      "member of group: /Level-3 Binned Data: <HDF5 dataset \"SEAGrid\": shape (1,), type \"|V44\">\n",
      "    TITLE: b'SEAGrid'\n",
      "    CLASS: b'TABLE'\n",
      "    VERSION: b'1.0'\n",
      "    FIELD_0_NAME: b'registration'\n",
      "    FIELD_1_NAME: b'straddle'\n",
      "    FIELD_2_NAME: b'bins'\n",
      "    FIELD_3_NAME: b'radius'\n",
      "    FIELD_4_NAME: b'max_north'\n",
      "    FIELD_5_NAME: b'max_south'\n",
      "    FIELD_6_NAME: b'seam_lon'\n",
      "    HDF4_OBJECT_TYPE: b'Vdata'\n",
      "    HDF4_OBJECT_NAME: b'SEAGrid'\n",
      "    HDF4_REF_NUM: 3\n",
      "member of group: /Level-3 Binned Data: <HDF5 named type \"SEAGrid_t\" (dtype |V44)>\n",
      "member of group: /Level-3 Binned Data: <HDF5 dataset \"chlor_a\": shape (11384896,), type \"|V8\">\n",
      "    TITLE: b'chlor_a'\n",
      "    CLASS: b'TABLE'\n",
      "    FIELD_0_NAME: b'chlor_a_sum'\n",
      "    FIELD_1_NAME: b'chlor_a_sum_sq'\n",
      "    HDF4_OBJECT_TYPE: b'Vdata'\n",
      "    HDF4_OBJECT_NAME: b'chlor_a'\n",
      "    HDF4_REF_NUM: 5\n",
      "    VERSION: b'1.0'\n",
      "member of group: /Level-3 Binned Data: <HDF5 named type \"chlor_a_t\" (dtype |V8)>\n",
      "-------------------\n",
      "attributes for the root file\n",
      "-------------------\n",
      "attribute name:  Product Name_GLOSDS --- value:  b'A20101522010181.L3b_MO_CHL.main'\n",
      "attribute name:  Title_GLOSDS --- value:  b'HMODISA Level-3 Binned Data'\n",
      "attribute name:  Sensor Name_GLOSDS --- value:  b'HMODISA'\n",
      "attribute name:  Mission_GLOSDS --- value:  b''\n",
      "attribute name:  Mission Characteristics_GLOSDS --- value:  b''\n",
      "attribute name:  Sensor_GLOSDS --- value:  b''\n",
      "attribute name:  Sensor Characteristics_GLOSDS --- value:  b''\n",
      "attribute name:  Product Type_GLOSDS --- value:  b'other'\n",
      "attribute name:  Processing Version_GLOSDS --- value:  b'2012.0'\n",
      "attribute name:  Software Name_GLOSDS --- value:  b'L3BIN'\n",
      "attribute name:  Software Version_GLOSDS --- value:  b'3.41'\n",
      "attribute name:  Orbit_GLOSDS --- value:  43175\n",
      "attribute name:  Start Orbit_GLOSDS --- value:  42956\n",
      "attribute name:  End Orbit_GLOSDS --- value:  43395\n",
      "attribute name:  Processing Time_GLOSDS --- value:  b'2012131024617000'\n",
      "attribute name:  Processing Control_GLOSDS --- value:  b'l3bin par=A20101522010181.L3b_MO_CHL.param'\n",
      "attribute name:  Input Parameters_GLOSDS --- value:  b'INFILE = /data2/sdpsoper/vdc/vpu1/workbuf/l3inlist.dat|OFILE = A20101522010181.L3b_MO_CHL.main|PFILE = A20101522010181.L3b_MO_CHL.main|SYEAR = 2010|EYEAR = 2010|SDAY = 152|EDAY = 181|SORBIT = -1|EORBIT = -1|OUT_PARM = DEFAULT|TFLAG = O|PROCESSING VERSION = 2012.0|REDUCE_FAC = 1|MERGED = |LONEAST = 180.000000|LONWEST = -180.000000|LATNORTH = 90.000000|LATSOUTH = -90.000000|VERBOSE = 0|UNIT_WGT = 0|MEDIAN = 0|'\n",
      "attribute name:  Input Files_GLOSDS --- value:  b'/data2/sdpsoper/vdc/vpu1/workbuf/A20101532010160.L3b_8D_CHL.main,/data2/sdpsoper/vdc/vpu1/workbuf/A20101612010168.L3b_8D_CHL.main,/data2/sdpsoper/vdc/vpu1/workbuf/A20101692010176.L3b_8D_CHL.main,/data2/sdpsoper/vdc/vpu1/workbuf/A2010152.L3b_DAY_CHL.main,/data2/sdpsoper/vdc/vpu1/workbuf/A2010177.L3b_DAY_CHL.main,/data2/sdpsoper/vdc/vpu1/workbuf/A2010178.L3b_DAY_CHL.main,/data2/sdpsoper/vdc/vpu1/workbuf/A2010179.L3b_DAY_CHL.main,/data2/sdpsoper/vdc/vpu1/workbuf/A2010180.L3b_DAY_CHL.main,/data2/sdpsoper/vdc/vpu1/workbuf/A2010181.L3b_DAY_CHL.main'\n",
      "attribute name:  L2 Flag Names_GLOSDS --- value:  b'ATMFAIL,LAND,HILT,HISATZEN,STRAYLIGHT,CLDICE,COCCOLITH,LOWLW,CHLWARN,CHLFAIL,NAVWARN,MAXAERITER,ATMWARN,HISOLZEN,NAVFAIL,FILTER,HIGLINT'\n",
      "attribute name:  Period Start Year_GLOSDS --- value:  2010\n",
      "attribute name:  Period Start Day_GLOSDS --- value:  152\n",
      "attribute name:  Period End Year_GLOSDS --- value:  2010\n",
      "attribute name:  Period End Day_GLOSDS --- value:  181\n",
      "attribute name:  Start Time_GLOSDS --- value:  b'2010152004008543'\n",
      "attribute name:  End Time_GLOSDS --- value:  b'2010153022006350'\n",
      "attribute name:  Start Year_GLOSDS --- value:  2010\n",
      "attribute name:  Start Day_GLOSDS --- value:  152\n",
      "attribute name:  Start Millisec_GLOSDS --- value:  2408543\n",
      "attribute name:  End Year_GLOSDS --- value:  2010\n",
      "attribute name:  End Day_GLOSDS --- value:  182\n",
      "attribute name:  End Millisec_GLOSDS --- value:  10807133\n",
      "attribute name:  Latitude Units_GLOSDS --- value:  b'degrees North'\n",
      "attribute name:  Longitude Units_GLOSDS --- value:  b'degrees East'\n",
      "attribute name:  Northernmost Latitude_GLOSDS --- value:  82.3125\n",
      "attribute name:  Southernmost Latitude_GLOSDS --- value:  -45.3542\n",
      "attribute name:  Easternmost Longitude_GLOSDS --- value:  179.979\n",
      "attribute name:  Westernmost Longitude_GLOSDS --- value:  -179.979\n",
      "attribute name:  Data Bins_GLOSDS --- value:  11384896\n",
      "attribute name:  Percent Data Bins_GLOSDS --- value:  47.9128\n",
      "attribute name:  Units_GLOSDS --- value:  b'chlor_a:mg m^-3'\n",
      "attribute name:  Bin Resolution_GLOSDS --- value:  b'4 km'\n",
      "\n"
     ]
    }
   ],
   "source": [
    "from e582utils.h5dump import dumph5\n",
    "outstring=dumph5(chlor_file)\n",
    "print(outstring)\n"
   ]
  },
  {
   "cell_type": "markdown",
   "metadata": {},
   "source": [
    "### Structured arrays\n",
    "\n",
    "The hdf file stores the array chlor_a as a vector with 11384896 values, each with two fields: chlor_a_sum and chlor_a_sum_sq\n",
    "\n",
    "    member of group: /Level-3 Binned Data: <HDF5 dataset \"chlor_a\": shape (11384896,), type \"|V8\">\n",
    "        TITLE: b'chlor_a'\n",
    "        CLASS: b'TABLE'\n",
    "        FIELD_0_NAME: b'chlor_a_sum'\n",
    "        FIELD_1_NAME: b'chlor_a_sum_sq'\n",
    "        HDF4_OBJECT_TYPE: b'Vdata'\n",
    "        HDF4_OBJECT_NAME: b'chlor_a'\n",
    "        HDF4_REF_NUM: 5\n",
    "        VERSION: b'1.0'\n",
    "        \n",
    "To calculate the mean and the variance\n",
    "we need to divide these sums by the number if datapoints in the bin, which is stored the \"weights\" field in\n",
    "the BinList vector\n",
    "\n",
    "    member of group: /Level-3 Binned Data: <HDF5 dataset \"BinList\": shape (11384896,), type \"|V19\">\n",
    "        TITLE: b'BinList'\n",
    "        CLASS: b'TABLE'\n",
    "        VERSION: b'1.0'\n",
    "        FIELD_0_NAME: b'bin_num'\n",
    "        FIELD_1_NAME: b'nobs'\n",
    "        FIELD_2_NAME: b'nscenes'\n",
    "        FIELD_3_NAME: b'time_rec'\n",
    "        FIELD_4_NAME: b'weights'\n",
    "        FIELD_5_NAME: b'sel_cat'\n",
    "        FIELD_6_NAME: b'flags_set'\n",
    "        HDF4_OBJECT_TYPE: b'Vdata'\n",
    "        HDF4_OBJECT_NAME: b'BinList'\n",
    "        HDF4_REF_NUM: 4\n",
    "        \n",
    "The h5py module reads the vectors in as numpy structured arrays, which are described in \n",
    "[Chapter 2 of the Python Data Science Handbook](http://nbviewer.jupyter.org/github/jakevdp/PythonDataScienceHandbook/blob/master/notebooks/02.09-Structured-Data-NumPy.ipynb)"
   ]
  },
  {
   "cell_type": "markdown",
   "metadata": {},
   "source": [
    "### calculate the chlorophyll bin number, mean and variance and save in a record array with three columns"
   ]
  },
  {
   "cell_type": "code",
   "execution_count": 3,
   "metadata": {
    "collapsed": false
   },
   "outputs": [
    {
     "name": "stdout",
     "output_type": "stream",
     "text": [
      "number of bins in dataset:  11384896\n"
     ]
    }
   ],
   "source": [
    "with  h5py.File(chlor_file,'r') as infile:\n",
    "    root_key='Level-3 Binned Data'\n",
    "    #\n",
    "    # turn day of year into a month and day\n",
    "    # and save so we can write out as attributes\n",
    "    # of our output files\n",
    "    #\n",
    "    start_day=int(infile.attrs['Start Day_GLOSDS'])  #convert from 16 bit to 64 bit int\n",
    "    start_year=infile.attrs['Start Year_GLOSDS']\n",
    "    #\n",
    "    # go to the last day of the previous year and add the days to that start\n",
    "    #\n",
    "    start=dt.datetime(start_year-1,12,31) + dt.timedelta(days=start_day)\n",
    "    end_day=int(infile.attrs['End Day_GLOSDS'])\n",
    "    end_year=infile.attrs['End Year_GLOSDS']\n",
    "    end=dt.datetime(end_year-1,12,31) + dt.timedelta(days=end_day)\n",
    "    start_date=start.strftime('%Y-%m-%d')\n",
    "    end_date=end.strftime('%Y-%m-%d')\n",
    "    binlist=infile[root_key]['BinList']\n",
    "    chlor_a=infile[root_key]['chlor_a']\n",
    "    veclength=binlist.shape[0]\n",
    "    print('number of bins in dataset: ',veclength)\n",
    "    #\n",
    "    # extract the sum, summed squares and weights\n",
    "    #\n",
    "    chlor_a_data=chlor_a['chlor_a_sum'][:veclength]\n",
    "    chlor_a_sq_data=chlor_a['chlor_a_sum_sq'][:veclength]\n",
    "    weights_data=binlist['weights'][:veclength]\n",
    "    binnums=binlist['bin_num'][:veclength]\n",
    "#\n",
    "# create a 3 column structured array to hold the output\n",
    "#\n",
    "out = np.empty((veclength,),dtype=[('binnum','>i4'),('chlor_a_mean','>f4'),('chlor_a_var','>f4')])"
   ]
  },
  {
   "cell_type": "markdown",
   "metadata": {},
   "source": [
    "### now transfer the record array to a dataframe indexed by bin number"
   ]
  },
  {
   "cell_type": "code",
   "execution_count": 6,
   "metadata": {
    "collapsed": false
   },
   "outputs": [
    {
     "name": "stdout",
     "output_type": "stream",
     "text": [
      "time to create structured array:  55.480197712022346\n",
      "time to create dataframe:  55.6540911430493\n",
      "time to write dataframe:  56.26818659104174\n"
     ]
    }
   ],
   "source": [
    "#\n",
    "# first run needs to set write=True to save dataframe\n",
    "# file size is for output file is 174 Mbytes\n",
    "# this takes a couple of minutes\n",
    "#\n",
    "write=True\n",
    "out_h5 = 'chlor_pandas.h5'\n",
    "\n",
    "if write:\n",
    "    with Timer() as t:\n",
    "        #\n",
    "        # fill the structured array with bin,chlorophyll pairs\n",
    "        # mean and variance. See the level3 user guide\n",
    "        # for mean, variance formula\n",
    "        #\n",
    "        for i in range(veclength):\n",
    "            meanval=chlor_a_data[i]/weights_data[i]\n",
    "            variance=(chlor_a_sq_data[i]/weights_data[i]) - meanval**2.\n",
    "            out[i]=(binnums[i],meanval,variance)\n",
    "        print(\"time to create structured array: \",t.elapsed)\n",
    "        #\n",
    "        # create a pandas dataframe using the structured array\n",
    "        # indexed by bin number\n",
    "        #\n",
    "        the_df=pd.DataFrame.from_records(out,index='binnum')\n",
    "        print(\"time to create dataframe: \",t.elapsed)\n",
    "        with pd.HDFStore(out_h5,'w') as store:\n",
    "            store.put('chlor_a_mean',the_df,format='fixed')\n",
    "        #\n",
    "        # open the file a second time to write the attributes\n",
    "        #\n",
    "        with  h5py.File(out_h5,'a') as f:\n",
    "            f.attrs['history']='created by chlorophyl.ipynb'\n",
    "            f.attrs['created_on']=time.strftime(\"%c\")\n",
    "            f.attrs['start_date']=start_date\n",
    "            f.attrs['end_date']=end_date\n",
    "            units='micrograms/m^3'\n",
    "            title='mean chlorophyll concentration'\n",
    "            f['/chlor_a_mean'].attrs['mean_units']=units\n",
    "            f['/chlor_a_mean'].attrs['mean_title']=title\n",
    "            units='(micrograms/m^3)^2'\n",
    "            title='variance of chlorophyll concentration'\n",
    "            f['/chlor_a_mean'].attrs['variance_units']=units\n",
    "            f['/chlor_a_mean'].attrs['variance_title']=title\n",
    "        print('time to write dataframe: ',t.elapsed)\n",
    "else:\n",
    "    #\n",
    "    # reuse data \n",
    "    #\n",
    "    with Timer() as t:\n",
    "        with pd.HDFStore(out_h5,'r') as store:\n",
    "            the_df=store['chlor_a_mean']\n",
    "        print('time to read dataframe: ',t.elapsed)       "
   ]
  },
  {
   "cell_type": "code",
   "execution_count": 5,
   "metadata": {
    "collapsed": false
   },
   "outputs": [
    {
     "data": {
      "text/html": [
       "<div>\n",
       "<table border=\"1\" class=\"dataframe\">\n",
       "  <thead>\n",
       "    <tr style=\"text-align: right;\">\n",
       "      <th></th>\n",
       "      <th>chlor_a_mean</th>\n",
       "      <th>chlor_a_var</th>\n",
       "    </tr>\n",
       "    <tr>\n",
       "      <th>binnum</th>\n",
       "      <th></th>\n",
       "      <th></th>\n",
       "    </tr>\n",
       "  </thead>\n",
       "  <tbody>\n",
       "    <tr>\n",
       "      <th>3430810</th>\n",
       "      <td>1.476212</td>\n",
       "      <td>3.389754e-02</td>\n",
       "    </tr>\n",
       "    <tr>\n",
       "      <th>3430811</th>\n",
       "      <td>1.878990</td>\n",
       "      <td>-5.140521e-09</td>\n",
       "    </tr>\n",
       "    <tr>\n",
       "      <th>3430812</th>\n",
       "      <td>1.722063</td>\n",
       "      <td>-8.872907e-08</td>\n",
       "    </tr>\n",
       "    <tr>\n",
       "      <th>3436885</th>\n",
       "      <td>1.364124</td>\n",
       "      <td>1.471481e-02</td>\n",
       "    </tr>\n",
       "    <tr>\n",
       "      <th>3436886</th>\n",
       "      <td>1.446847</td>\n",
       "      <td>3.364159e-02</td>\n",
       "    </tr>\n",
       "  </tbody>\n",
       "</table>\n",
       "</div>"
      ],
      "text/plain": [
       "         chlor_a_mean   chlor_a_var\n",
       "binnum                             \n",
       "3430810      1.476212  3.389754e-02\n",
       "3430811      1.878990 -5.140521e-09\n",
       "3430812      1.722063 -8.872907e-08\n",
       "3436885      1.364124  1.471481e-02\n",
       "3436886      1.446847  3.364159e-02"
      ]
     },
     "execution_count": 5,
     "metadata": {},
     "output_type": "execute_result"
    }
   ],
   "source": [
    "the_df.head()"
   ]
  },
  {
   "cell_type": "code",
   "execution_count": null,
   "metadata": {
    "collapsed": true
   },
   "outputs": [],
   "source": []
  }
 ],
 "metadata": {
  "hide_input": false,
  "kernelspec": {
   "display_name": "Python 3",
   "language": "python",
   "name": "python3"
  },
  "language_info": {
   "codemirror_mode": {
    "name": "ipython",
    "version": 3
   },
   "file_extension": ".py",
   "mimetype": "text/x-python",
   "name": "python",
   "nbconvert_exporter": "python",
   "pygments_lexer": "ipython3",
   "version": "3.5.3"
  }
 },
 "nbformat": 4,
 "nbformat_minor": 2
}
