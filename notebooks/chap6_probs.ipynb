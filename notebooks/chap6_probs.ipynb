{
 "cells": [
  {
   "cell_type": "markdown",
   "metadata": {},
   "source": [
    "### Chapter 6 thermo answers"
   ]
  },
  {
   "cell_type": "code",
   "execution_count": 3,
   "metadata": {
    "collapsed": false
   },
   "outputs": [],
   "source": [
    "import e582lib.radiation as rad"
   ]
  },
  {
   "cell_type": "markdown",
   "metadata": {},
   "source": [
    "### problem 6.8"
   ]
  },
  {
   "cell_type": "code",
   "execution_count": 4,
   "metadata": {
    "collapsed": false
   },
   "outputs": [
    {
     "name": "stdout",
     "output_type": "stream",
     "text": [
      "the brightness temperature is 275.040 K\n"
     ]
    }
   ],
   "source": [
    "Blambda=6.2e6 #W/m^2/sr/m\n",
    "wavel=12e-6 #meters\n",
    "Tb = rad.planckInvert(wavel, Blambda)\n",
    "print('the brightness temperature is {:6.3f} K'.format(Tb))"
   ]
  },
  {
   "cell_type": "code",
   "execution_count": 6,
   "metadata": {
    "collapsed": false
   },
   "outputs": [
    {
     "name": "stdout",
     "output_type": "stream",
     "text": [
      "true temperture = 281.758 K\n",
      "temperature ratio =  0.98\n"
     ]
    }
   ],
   "source": [
    "eps=0.9\n",
    "bbody_rad=Blambda/eps\n",
    "Tb_kinetic=rad.planckInvert(wavel, bbody_rad)\n",
    "print('kinetic temperture = {:6.3f} K'.format(Tb_kinetic))\n",
    "print('temperature ratio = {:5.2f}'.format(Tb/Tb_kinetic))"
   ]
  },
  {
   "cell_type": "markdown",
   "metadata": {},
   "source": [
    "### problem 6.9"
   ]
  },
  {
   "cell_type": "code",
   "execution_count": 7,
   "metadata": {
    "collapsed": false
   },
   "outputs": [
    {
     "name": "stdout",
     "output_type": "stream",
     "text": [
      "the brightness temperature is 254.761 K\n"
     ]
    }
   ],
   "source": [
    "Blambda = 2.103e-4  #W/m^2/sr/m\n",
    "wavel=1.e-2  #meters\n",
    "Tb = rad.planckInvert(wavel, Blambda)\n",
    "print('the brightness temperature is {:6.3f} K'.format(Tb))"
   ]
  },
  {
   "cell_type": "code",
   "execution_count": 8,
   "metadata": {
    "collapsed": false
   },
   "outputs": [
    {
     "name": "stdout",
     "output_type": "stream",
     "text": [
      "kinetic temperature = 281.758 K\n",
      "temperature ratio =  0.90\n"
     ]
    }
   ],
   "source": [
    "eps=0.9\n",
    "bbody_rad=Blambda/eps\n",
    "Tb_kinetic=rad.planckInvert(wavel, bbody_rad)\n",
    "print('kinetic temperature = {:6.3f} K'.format(Tbnew))\n",
    "print('temperature ratio = {:5.2f}'.format(Tb/Tb_kinetic))"
   ]
  },
  {
   "cell_type": "code",
   "execution_count": null,
   "metadata": {
    "collapsed": true
   },
   "outputs": [],
   "source": []
  }
 ],
 "metadata": {
  "hide_input": false,
  "kernelspec": {
   "display_name": "Python 3",
   "language": "python",
   "name": "python3"
  },
  "language_info": {
   "codemirror_mode": {
    "name": "ipython",
    "version": 3
   },
   "file_extension": ".py",
   "mimetype": "text/x-python",
   "name": "python",
   "nbconvert_exporter": "python",
   "pygments_lexer": "ipython3",
   "version": "3.5.3"
  }
 },
 "nbformat": 4,
 "nbformat_minor": 2
}
