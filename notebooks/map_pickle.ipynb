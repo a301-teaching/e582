{
 "cells": [
  {
   "cell_type": "code",
   "execution_count": 2,
   "metadata": {
    "collapsed": false
   },
   "outputs": [
    {
     "name": "stdout",
     "output_type": "stream",
     "text": [
      "143.05731899999998  secs to create original Basemap instance\n",
      "0.6856129999999894  secs to plot using using a pickled Basemap instance\n"
     ]
    }
   ],
   "source": [
    "%matplotlib qt4\n",
    "from __future__ import print_function\n",
    "from mpl_toolkits.basemap import Basemap\n",
    "import numpy as np\n",
    "import matplotlib.pyplot as plt\n",
    "import pickle, time\n",
    "\n",
    "#\n",
    "# to pickle this map, set save_map=False\n",
    "#\n",
    "save_map=True\n",
    "if save_map:\n",
    "    fig, ax = plt.subplots(1,1)\n",
    "    # create Basemap instance. Use 'high' resolution coastlines.\n",
    "    t1 = time.clock()\n",
    "    m = Basemap(width=920000,height=1100000,\n",
    "                resolution='f',projection='tmerc',lon_0=-4.2,lat_0=54.6,ax=ax)\n",
    "    # make sure countries and rivers are loaded\n",
    "    m.drawcountries()\n",
    "    m.drawrivers()\n",
    "    print(time.clock()-t1,' secs to create original Basemap instance')\n",
    "    fig.savefig('fig1.png')\n",
    "    # pickle the class instance.\n",
    "    pickle.dump(m,open('map.pickle','wb'),-1)\n",
    "#\n",
    "# read in the pickled map\n",
    "#\n",
    "# clear the figure\n",
    "plt.close('all')\n",
    "fig1, ax = plt.subplots(1,1)\n",
    "# read pickle back in and plot it again (should be much faster).\n",
    "t1 = time.clock()\n",
    "m2 = pickle.load(open('map.pickle','rb'))\n",
    "m2.ax=ax\n",
    "# draw coastlines and fill continents.\n",
    "m2.drawcoastlines()\n",
    "# fill continents and lakes\n",
    "m2.fillcontinents(color='coral',lake_color='aqua')\n",
    "# draw political boundaries.\n",
    "m2.drawcountries(linewidth=1)\n",
    "# fill map projection region light blue (this will\n",
    "# paint ocean areas same color as lakes).\n",
    "m2.drawmapboundary(fill_color='aqua')\n",
    "# draw major rivers.\n",
    "m2.drawrivers(color='b')\n",
    "print(time.clock()-t1,' secs to plot using using a pickled Basemap instance')\n",
    "# draw parallels\n",
    "circles = np.arange(48,65,2).tolist()\n",
    "m2.drawparallels(circles,labels=[1,1,0,0])\n",
    "# draw meridians\n",
    "meridians = np.arange(-12,13,2)\n",
    "m2.drawmeridians(meridians,labels=[0,0,1,1])\n",
    "m2.ax.set_title(\"High-Res British Isles -- from pickle\",y=1.04)\n",
    "fig1.savefig('fig1.png')\n",
    "\n",
    "\n"
   ]
  },
  {
   "cell_type": "code",
   "execution_count": null,
   "metadata": {
    "collapsed": true
   },
   "outputs": [],
   "source": []
  }
 ],
 "metadata": {
  "kernelspec": {
   "display_name": "Python 3",
   "language": "python",
   "name": "python3"
  },
  "language_info": {
   "codemirror_mode": {
    "name": "ipython",
    "version": 3
   },
   "file_extension": ".py",
   "mimetype": "text/x-python",
   "name": "python",
   "nbconvert_exporter": "python",
   "pygments_lexer": "ipython3",
   "version": "3.5.2"
  }
 },
 "nbformat": 4,
 "nbformat_minor": 2
}
